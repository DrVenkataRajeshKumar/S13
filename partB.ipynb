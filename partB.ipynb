{
  "nbformat": 4,
  "nbformat_minor": 0,
  "metadata": {
    "colab": {
      "name": "Untitled22.ipynb",
      "provenance": [],
      "collapsed_sections": [],
      "mount_file_id": "1IgSvGx4CZXHyzev6gKrGq8ukfMNCDdca",
      "authorship_tag": "ABX9TyNwSDiAMt6RgzOa/m7GmGDN",
      "include_colab_link": true
    },
    "kernelspec": {
      "name": "python3",
      "display_name": "Python 3"
    },
    "accelerator": "GPU"
  },
  "cells": [
    {
      "cell_type": "markdown",
      "metadata": {
        "id": "view-in-github",
        "colab_type": "text"
      },
      "source": [
        "<a href=\"https://colab.research.google.com/github/DrVenkataRajeshKumar/S13/blob/master/partB.ipynb\" target=\"_parent\"><img src=\"https://colab.research.google.com/assets/colab-badge.svg\" alt=\"Open In Colab\"/></a>"
      ]
    },
    {
      "cell_type": "code",
      "metadata": {
        "id": "ZbA5EkX754_Z",
        "colab_type": "code",
        "outputId": "c6235db7-eade-4fe4-c6c2-b045109cdbdb",
        "colab": {
          "base_uri": "https://localhost:8080/",
          "height": 136
        }
      },
      "source": [
        "!git clone https://github.com/DrVenkataRajeshKumar/YoloV3"
      ],
      "execution_count": 1,
      "outputs": [
        {
          "output_type": "stream",
          "text": [
            "Cloning into 'YoloV3'...\n",
            "remote: Enumerating objects: 42, done.\u001b[K\n",
            "remote: Counting objects:   2% (1/42)\u001b[K\rremote: Counting objects:   4% (2/42)\u001b[K\rremote: Counting objects:   7% (3/42)\u001b[K\rremote: Counting objects:   9% (4/42)\u001b[K\rremote: Counting objects:  11% (5/42)\u001b[K\rremote: Counting objects:  14% (6/42)\u001b[K\rremote: Counting objects:  16% (7/42)\u001b[K\rremote: Counting objects:  19% (8/42)\u001b[K\rremote: Counting objects:  21% (9/42)\u001b[K\rremote: Counting objects:  23% (10/42)\u001b[K\rremote: Counting objects:  26% (11/42)\u001b[K\rremote: Counting objects:  28% (12/42)\u001b[K\rremote: Counting objects:  30% (13/42)\u001b[K\rremote: Counting objects:  33% (14/42)\u001b[K\rremote: Counting objects:  35% (15/42)\u001b[K\rremote: Counting objects:  38% (16/42)\u001b[K\rremote: Counting objects:  40% (17/42)\u001b[K\rremote: Counting objects:  42% (18/42)\u001b[K\rremote: Counting objects:  45% (19/42)\u001b[K\rremote: Counting objects:  47% (20/42)\u001b[K\rremote: Counting objects:  50% (21/42)\u001b[K\rremote: Counting objects:  52% (22/42)\u001b[K\rremote: Counting objects:  54% (23/42)\u001b[K\rremote: Counting objects:  57% (24/42)\u001b[K\rremote: Counting objects:  59% (25/42)\u001b[K\rremote: Counting objects:  61% (26/42)\u001b[K\rremote: Counting objects:  64% (27/42)\u001b[K\rremote: Counting objects:  66% (28/42)\u001b[K\rremote: Counting objects:  69% (29/42)\u001b[K\rremote: Counting objects:  71% (30/42)\u001b[K\rremote: Counting objects:  73% (31/42)\u001b[K\rremote: Counting objects:  76% (32/42)\u001b[K\rremote: Counting objects:  78% (33/42)\u001b[K\rremote: Counting objects:  80% (34/42)\u001b[K\rremote: Counting objects:  83% (35/42)\u001b[K\rremote: Counting objects:  85% (36/42)\u001b[K\rremote: Counting objects:  88% (37/42)\u001b[K\rremote: Counting objects:  90% (38/42)\u001b[K\rremote: Counting objects:  92% (39/42)\u001b[K\rremote: Counting objects:  95% (40/42)\u001b[K\rremote: Counting objects:  97% (41/42)\u001b[K\rremote: Counting objects: 100% (42/42)\u001b[K\rremote: Counting objects: 100% (42/42), done.\u001b[K\n",
            "remote: Compressing objects:   2% (1/42)\u001b[K\rremote: Compressing objects:   4% (2/42)\u001b[K\rremote: Compressing objects:   7% (3/42)\u001b[K\rremote: Compressing objects:   9% (4/42)\u001b[K\rremote: Compressing objects:  11% (5/42)\u001b[K\rremote: Compressing objects:  14% (6/42)\u001b[K\rremote: Compressing objects:  16% (7/42)\u001b[K\rremote: Compressing objects:  19% (8/42)\u001b[K\rremote: Compressing objects:  21% (9/42)\u001b[K\rremote: Compressing objects:  23% (10/42)\u001b[K\rremote: Compressing objects:  26% (11/42)\u001b[K\rremote: Compressing objects:  28% (12/42)\u001b[K\rremote: Compressing objects:  30% (13/42)\u001b[K\rremote: Compressing objects:  33% (14/42)\u001b[K\rremote: Compressing objects:  35% (15/42)\u001b[K\rremote: Compressing objects:  38% (16/42)\u001b[K\rremote: Compressing objects:  40% (17/42)\u001b[K\rremote: Compressing objects:  42% (18/42)\u001b[K\rremote: Compressing objects:  45% (19/42)\u001b[K\rremote: Compressing objects:  47% (20/42)\u001b[K\rremote: Compressing objects:  50% (21/42)\u001b[K\rremote: Compressing objects:  52% (22/42)\u001b[K\rremote: Compressing objects:  54% (23/42)\u001b[K\rremote: Compressing objects:  57% (24/42)\u001b[K\rremote: Compressing objects:  59% (25/42)\u001b[K\rremote: Compressing objects:  61% (26/42)\u001b[K\rremote: Compressing objects:  64% (27/42)\u001b[K\rremote: Compressing objects:  66% (28/42)\u001b[K\rremote: Compressing objects:  69% (29/42)\u001b[K\rremote: Compressing objects:  71% (30/42)\u001b[K\rremote: Compressing objects:  73% (31/42)\u001b[K\rremote: Compressing objects:  76% (32/42)\u001b[K\rremote: Compressing objects:  78% (33/42)\u001b[K\rremote: Compressing objects:  80% (34/42)\u001b[K\rremote: Compressing objects:  83% (35/42)\u001b[K\rremote: Compressing objects:  85% (36/42)\u001b[K\rremote: Compressing objects:  88% (37/42)\u001b[K\rremote: Compressing objects:  90% (38/42)\u001b[K\rremote: Compressing objects:  92% (39/42)\u001b[K\rremote: Compressing objects:  95% (40/42)\u001b[K\rremote: Compressing objects:  97% (41/42)\u001b[K\rremote: Compressing objects: 100% (42/42)\u001b[K\rremote: Compressing objects: 100% (42/42), done.\u001b[K\n",
            "Receiving objects:   0% (1/1569)   \rReceiving objects:   1% (16/1569)   \rReceiving objects:   2% (32/1569)   \rReceiving objects:   3% (48/1569)   \rReceiving objects:   4% (63/1569)   \rReceiving objects:   5% (79/1569)   \rReceiving objects:   6% (95/1569)   \rReceiving objects:   7% (110/1569)   \rReceiving objects:   8% (126/1569)   \rReceiving objects:   9% (142/1569)   \rReceiving objects:  10% (157/1569)   \rReceiving objects:  11% (173/1569)   \rReceiving objects:  12% (189/1569), 3.36 MiB | 6.54 MiB/s   \rReceiving objects:  13% (204/1569), 3.36 MiB | 6.54 MiB/s   \rReceiving objects:  14% (220/1569), 3.36 MiB | 6.54 MiB/s   \rReceiving objects:  15% (236/1569), 3.36 MiB | 6.54 MiB/s   \rReceiving objects:  16% (252/1569), 3.36 MiB | 6.54 MiB/s   \rReceiving objects:  17% (267/1569), 3.36 MiB | 6.54 MiB/s   \rReceiving objects:  18% (283/1569), 3.36 MiB | 6.54 MiB/s   \rReceiving objects:  19% (299/1569), 3.36 MiB | 6.54 MiB/s   \rReceiving objects:  20% (314/1569), 3.36 MiB | 6.54 MiB/s   \rReceiving objects:  21% (330/1569), 3.36 MiB | 6.54 MiB/s   \rReceiving objects:  22% (346/1569), 3.36 MiB | 6.54 MiB/s   \rReceiving objects:  23% (361/1569), 3.36 MiB | 6.54 MiB/s   \rReceiving objects:  24% (377/1569), 3.36 MiB | 6.54 MiB/s   \rReceiving objects:  25% (393/1569), 3.36 MiB | 6.54 MiB/s   \rReceiving objects:  26% (408/1569), 3.36 MiB | 6.54 MiB/s   \rReceiving objects:  27% (424/1569), 3.36 MiB | 6.54 MiB/s   \rReceiving objects:  28% (440/1569), 3.36 MiB | 6.54 MiB/s   \rReceiving objects:  29% (456/1569), 3.36 MiB | 6.54 MiB/s   \rReceiving objects:  30% (471/1569), 3.36 MiB | 6.54 MiB/s   \rReceiving objects:  31% (487/1569), 3.36 MiB | 6.54 MiB/s   \rReceiving objects:  32% (503/1569), 3.36 MiB | 6.54 MiB/s   \rReceiving objects:  33% (518/1569), 3.36 MiB | 6.54 MiB/s   \rReceiving objects:  34% (534/1569), 3.36 MiB | 6.54 MiB/s   \rReceiving objects:  35% (550/1569), 3.36 MiB | 6.54 MiB/s   \rReceiving objects:  36% (565/1569), 3.36 MiB | 6.54 MiB/s   \rReceiving objects:  37% (581/1569), 3.36 MiB | 6.54 MiB/s   \rReceiving objects:  38% (597/1569), 3.36 MiB | 6.54 MiB/s   \rReceiving objects:  39% (612/1569), 3.36 MiB | 6.54 MiB/s   \rReceiving objects:  40% (628/1569), 3.36 MiB | 6.54 MiB/s   \rReceiving objects:  41% (644/1569), 3.36 MiB | 6.54 MiB/s   \rReceiving objects:  42% (659/1569), 3.36 MiB | 6.54 MiB/s   \rReceiving objects:  43% (675/1569), 3.36 MiB | 6.54 MiB/s   \rReceiving objects:  44% (691/1569), 3.36 MiB | 6.54 MiB/s   \rReceiving objects:  45% (707/1569), 3.36 MiB | 6.54 MiB/s   \rReceiving objects:  46% (722/1569), 3.36 MiB | 6.54 MiB/s   \rReceiving objects:  47% (738/1569), 3.36 MiB | 6.54 MiB/s   \rReceiving objects:  48% (754/1569), 3.36 MiB | 6.54 MiB/s   \rReceiving objects:  49% (769/1569), 3.36 MiB | 6.54 MiB/s   \rReceiving objects:  50% (785/1569), 3.36 MiB | 6.54 MiB/s   \rReceiving objects:  51% (801/1569), 3.36 MiB | 6.54 MiB/s   \rReceiving objects:  52% (816/1569), 3.36 MiB | 6.54 MiB/s   \rReceiving objects:  53% (832/1569), 3.36 MiB | 6.54 MiB/s   \rReceiving objects:  54% (848/1569), 3.36 MiB | 6.54 MiB/s   \rReceiving objects:  55% (863/1569), 3.36 MiB | 6.54 MiB/s   \rReceiving objects:  56% (879/1569), 3.36 MiB | 6.54 MiB/s   \rReceiving objects:  57% (895/1569), 3.36 MiB | 6.54 MiB/s   \rReceiving objects:  58% (911/1569), 3.36 MiB | 6.54 MiB/s   \rReceiving objects:  59% (926/1569), 3.36 MiB | 6.54 MiB/s   \rReceiving objects:  60% (942/1569), 3.36 MiB | 6.54 MiB/s   \rReceiving objects:  61% (958/1569), 3.36 MiB | 6.54 MiB/s   \rReceiving objects:  62% (973/1569), 3.36 MiB | 6.54 MiB/s   \rReceiving objects:  63% (989/1569), 3.36 MiB | 6.54 MiB/s   \rReceiving objects:  64% (1005/1569), 3.36 MiB | 6.54 MiB/s   \rReceiving objects:  65% (1020/1569), 3.36 MiB | 6.54 MiB/s   \rReceiving objects:  66% (1036/1569), 3.36 MiB | 6.54 MiB/s   \rReceiving objects:  67% (1052/1569), 3.36 MiB | 6.54 MiB/s   \rReceiving objects:  68% (1067/1569), 3.36 MiB | 6.54 MiB/s   \rReceiving objects:  69% (1083/1569), 3.36 MiB | 6.54 MiB/s   \rReceiving objects:  70% (1099/1569), 3.36 MiB | 6.54 MiB/s   \rReceiving objects:  71% (1114/1569), 3.36 MiB | 6.54 MiB/s   \rReceiving objects:  72% (1130/1569), 3.36 MiB | 6.54 MiB/s   \rReceiving objects:  72% (1137/1569), 17.74 MiB | 17.20 MiB/s   \rReceiving objects:  73% (1146/1569), 17.74 MiB | 17.20 MiB/s   \rReceiving objects:  74% (1162/1569), 17.74 MiB | 17.20 MiB/s   \rReceiving objects:  75% (1177/1569), 17.74 MiB | 17.20 MiB/s   \rReceiving objects:  76% (1193/1569), 17.74 MiB | 17.20 MiB/s   \rReceiving objects:  77% (1209/1569), 17.74 MiB | 17.20 MiB/s   \rReceiving objects:  78% (1224/1569), 17.74 MiB | 17.20 MiB/s   \rReceiving objects:  79% (1240/1569), 17.74 MiB | 17.20 MiB/s   \rReceiving objects:  80% (1256/1569), 17.74 MiB | 17.20 MiB/s   \rReceiving objects:  81% (1271/1569), 17.74 MiB | 17.20 MiB/s   \rReceiving objects:  82% (1287/1569), 17.74 MiB | 17.20 MiB/s   \rReceiving objects:  83% (1303/1569), 17.74 MiB | 17.20 MiB/s   \rReceiving objects:  84% (1318/1569), 17.74 MiB | 17.20 MiB/s   \rReceiving objects:  85% (1334/1569), 17.74 MiB | 17.20 MiB/s   \rReceiving objects:  86% (1350/1569), 17.74 MiB | 17.20 MiB/s   \rReceiving objects:  87% (1366/1569), 17.74 MiB | 17.20 MiB/s   \rReceiving objects:  88% (1381/1569), 17.74 MiB | 17.20 MiB/s   \rReceiving objects:  89% (1397/1569), 36.60 MiB | 23.90 MiB/s   \rReceiving objects:  90% (1413/1569), 36.60 MiB | 23.90 MiB/s   \rReceiving objects:  91% (1428/1569), 36.60 MiB | 23.90 MiB/s   \rReceiving objects:  92% (1444/1569), 36.60 MiB | 23.90 MiB/s   \rReceiving objects:  93% (1460/1569), 36.60 MiB | 23.90 MiB/s   \rReceiving objects:  94% (1475/1569), 36.60 MiB | 23.90 MiB/s   \rReceiving objects:  95% (1491/1569), 36.60 MiB | 23.90 MiB/s   \rReceiving objects:  96% (1507/1569), 36.60 MiB | 23.90 MiB/s   \rReceiving objects:  97% (1522/1569), 36.60 MiB | 23.90 MiB/s   \rReceiving objects:  98% (1538/1569), 36.60 MiB | 23.90 MiB/s   \rReceiving objects:  98% (1539/1569), 58.17 MiB | 28.64 MiB/s   \rremote: Total 1569 (delta 22), reused 0 (delta 0), pack-reused 1527\u001b[K\n",
            "Receiving objects:  99% (1554/1569), 70.45 MiB | 27.77 MiB/s   \rReceiving objects: 100% (1569/1569), 70.45 MiB | 27.77 MiB/s   \rReceiving objects: 100% (1569/1569), 77.24 MiB | 28.87 MiB/s, done.\n",
            "Resolving deltas:   0% (0/178)   \rResolving deltas:  10% (18/178)   \rResolving deltas:  23% (41/178)   \rResolving deltas:  26% (47/178)   \rResolving deltas:  31% (56/178)   \rResolving deltas:  32% (58/178)   \rResolving deltas:  44% (80/178)   \rResolving deltas:  51% (92/178)   \rResolving deltas:  52% (93/178)   \rResolving deltas:  58% (104/178)   \rResolving deltas:  62% (111/178)   \rResolving deltas:  65% (117/178)   \rResolving deltas:  81% (145/178)   \rResolving deltas: 100% (178/178)   \rResolving deltas: 100% (178/178), done.\n"
          ],
          "name": "stdout"
        }
      ]
    },
    {
      "cell_type": "code",
      "metadata": {
        "id": "sP7NbXUX5ETw",
        "colab_type": "code",
        "outputId": "acc6199c-1c83-4371-e111-65515785d243",
        "colab": {
          "base_uri": "https://localhost:8080/",
          "height": 34
        }
      },
      "source": [
        "import time\n",
        "import glob\n",
        "import torch\n",
        "import os\n",
        "\n",
        "from IPython.display import Image, clear_output \n",
        "print('PyTorch %s %s' % (torch.__version__, torch.cuda.get_device_properties(0) if torch.cuda.is_available() else 'CPU'))"
      ],
      "execution_count": 2,
      "outputs": [
        {
          "output_type": "stream",
          "text": [
            "PyTorch 1.4.0 _CudaDeviceProperties(name='Tesla P4', major=6, minor=1, total_memory=7611MB, multi_processor_count=20)\n"
          ],
          "name": "stdout"
        }
      ]
    },
    {
      "cell_type": "code",
      "metadata": {
        "id": "5bGRgMoE5FVU",
        "colab_type": "code",
        "outputId": "3c5fde72-c425-4335-f2ea-e9f13e0d103d",
        "colab": {
          "base_uri": "https://localhost:8080/",
          "height": 34
        }
      },
      "source": [
        "ls"
      ],
      "execution_count": 3,
      "outputs": [
        {
          "output_type": "stream",
          "text": [
            "\u001b[0m\u001b[01;34mdrive\u001b[0m/  \u001b[01;34msample_data\u001b[0m/  \u001b[01;34mYoloV3\u001b[0m/\n"
          ],
          "name": "stdout"
        }
      ]
    },
    {
      "cell_type": "code",
      "metadata": {
        "id": "7v9Y4CLT5s3n",
        "colab_type": "code",
        "outputId": "73aa052b-a309-4613-a043-ad02488ca79f",
        "colab": {
          "base_uri": "https://localhost:8080/",
          "height": 34
        }
      },
      "source": [
        "cd YoloV3/"
      ],
      "execution_count": 4,
      "outputs": [
        {
          "output_type": "stream",
          "text": [
            "/content/YoloV3\n"
          ],
          "name": "stdout"
        }
      ]
    },
    {
      "cell_type": "code",
      "metadata": {
        "id": "qnC905tN5w4K",
        "colab_type": "code",
        "outputId": "85ee8b48-bfd6-4f94-feba-6c68567baf75",
        "colab": {
          "base_uri": "https://localhost:8080/",
          "height": 102
        }
      },
      "source": [
        "!ls"
      ],
      "execution_count": 5,
      "outputs": [
        {
          "output_type": "stream",
          "text": [
            " cfg\t\t        GOT1.mp4      test.py\t       vim.exe.stackdump\n",
            " coco.names\t        models.py     ting\t       weights\n",
            " data\t\t        output\t      train.py\t       yolo_object_detection.py\n",
            " detect.py\t        __pycache__  'ubdivisions=1'   yolov3.cfg\n",
            "'Game of Thrones.mp4'   README.md     utils\n"
          ],
          "name": "stdout"
        }
      ]
    },
    {
      "cell_type": "code",
      "metadata": {
        "id": "kAx5Gkp-53ag",
        "colab_type": "code",
        "colab": {}
      },
      "source": [
        "!python train.py --data data/dragon/dragon.data --batch 10 --cache --cfg cfg/yolov3-custom.cfg --epochs 300 --nosave\n"
      ],
      "execution_count": 0,
      "outputs": []
    },
    {
      "cell_type": "code",
      "metadata": {
        "id": "0S2kPrZaDHQX",
        "colab_type": "code",
        "colab": {}
      },
      "source": [
        "!python detect.py --source 'Game of Thrones.mp4' --conf-thres 0.2 --output output"
      ],
      "execution_count": 0,
      "outputs": []
    },
    {
      "cell_type": "code",
      "metadata": {
        "id": "GlIGmgPe-8tU",
        "colab_type": "code",
        "colab": {}
      },
      "source": [
        "!python detect.py --source 'GOT1.mp4' --conf-thres 0.2 --output output"
      ],
      "execution_count": 0,
      "outputs": []
    },
    {
      "cell_type": "code",
      "metadata": {
        "id": "bA3lEsDf_ZDT",
        "colab_type": "code",
        "colab": {}
      },
      "source": [
        "!python detect.py --source /content/drive/My Drive/'Dragon final.mp4' --conf-thres 0.2 --output output"
      ],
      "execution_count": 0,
      "outputs": []
    }
  ]
}